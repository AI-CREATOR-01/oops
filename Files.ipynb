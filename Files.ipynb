{
 "cells": [
  {
   "cell_type": "markdown",
   "id": "e96cbb9f-b369-45c6-ae3d-ca88231623a3",
   "metadata": {},
   "source": [
    "                                How to open any File by using Python"
   ]
  },
  {
   "cell_type": "code",
   "execution_count": 7,
   "id": "2063b520-df3c-4c7c-bab2-2ff07e89d0da",
   "metadata": {},
   "outputs": [],
   "source": [
    "file = open(\"my_file.txt\",mode=\"r\")"
   ]
  },
  {
   "cell_type": "markdown",
   "id": "cf87c293-314e-40ae-b28e-6ebaab6eda97",
   "metadata": {},
   "source": [
    "so yha pr hmne open() function ka istemaal kr file ko open krliya hai ab yah file aaage ke operation ke liye ready ho chuki hai jisko ek file naam ke variable me store krwa diya hai"
   ]
  },
  {
   "cell_type": "markdown",
   "id": "3eaff472-b39d-4722-9f6f-ded01fab77de",
   "metadata": {},
   "source": [
    "                                            HOW TO READ A FILE"
   ]
  },
  {
   "cell_type": "code",
   "execution_count": 3,
   "id": "56ce4ec6-4c29-4331-bbad-c7286ef2d887",
   "metadata": {},
   "outputs": [
    {
     "data": {
      "text/plain": [
       "'Hello my name is sanit welcome to the AI world.'"
      ]
     },
     "execution_count": 3,
     "metadata": {},
     "output_type": "execute_result"
    }
   ],
   "source": [
    "file.read()"
   ]
  },
  {
   "cell_type": "markdown",
   "id": "cb5942f0-d2fa-456d-bf8c-52aadc566db8",
   "metadata": {},
   "source": [
    "so basically sbse phle open() funct ki help se python ne file ko taiyar krliya aur hmne file pr read operation kiya see above"
   ]
  },
  {
   "cell_type": "markdown",
   "id": "be8c3b19-5e1f-4688-bff9-c81fe538f04b",
   "metadata": {},
   "source": [
    "In Python, the close() function is used to close an open file object. When a file is opened in Python using the built-in open() function, a file object is returned. This object provides a set of methods and attributes for reading, writing and manipulating the file.\n",
    "\n",
    "Once a file object is no longer needed, it is a good practice to close the file using the close() function. This releases any system resources that were being used by the file object, such as memory and file handles.\n",
    "\n",
    "agar file open hi rah jaati hai to data leak bhi ho skta hai so it wiil be a best practice to close a file when we have performed all operation we want after opening a file.\n",
    "\n",
    "but ek aur tarika hai to open  a file jisme hme baaar baar file ko close krne ki jarurat nhi padegi see below\n"
   ]
  },
  {
   "cell_type": "code",
   "execution_count": 8,
   "id": "32850c60-68f1-4999-a79d-dc1bc6c594cd",
   "metadata": {},
   "outputs": [
    {
     "data": {
      "text/plain": [
       "'Hello my name is sanit welcome to the AI world.'"
      ]
     },
     "execution_count": 8,
     "metadata": {},
     "output_type": "execute_result"
    }
   ],
   "source": [
    "with open(\"my_file.txt\",mode=\"r\") as file:\n",
    "     contents = file.read()\n",
    "contents        "
   ]
  },
  {
   "cell_type": "markdown",
   "id": "98367b69-ce7f-4f1b-bc7a-be37b15e8a3a",
   "metadata": {},
   "source": [
    "ab ye jo with keyword hai yah automatically file ko manage krlega ek baar saare operation perform hone ke baad file automatically close ho jaayegi aur ab jo bhi resources use ho rhe the by this file such as memory gonne released"
   ]
  },
  {
   "cell_type": "markdown",
   "id": "c5b37212-deb9-46da-972d-9d6e55fa031c",
   "metadata": {},
   "source": [
    "jo bhi hm file name enter krte hai agar wah file phle se exir nhi krti hai to us naam ki file system me ban ke taiyar ho jaayegi"
   ]
  },
  {
   "cell_type": "markdown",
   "id": "441503d0-c717-4bb5-a971-a46c74870d29",
   "metadata": {},
   "source": [
    "                                               NOTE"
   ]
  },
  {
   "cell_type": "markdown",
   "id": "d6a27c8e-eef3-49c1-91da-77efee0fe778",
   "metadata": {},
   "source": [
    "Jabhi hm file ko open(taiyar/ready) krte hai tab hm file name aur mode ko mentioned kr rhe hote hia yha pr mode yah decide krega ki file ke saath krna kya hai kewl read krna hai data ko ya phir kuchh edit ya write bhi krna hai to this file"
   ]
  },
  {
   "cell_type": "markdown",
   "id": "3c8202e6-f0e4-41eb-96b9-293abc6f4654",
   "metadata": {},
   "source": [
    "                                 ABSOLUTE FILE PATH AND RELATIVE FIULE PATH"
   ]
  },
  {
   "cell_type": "markdown",
   "id": "c7fdaa1a-6833-4910-9cf5-d6f03dee5dbb",
   "metadata": {},
   "source": [
    "A file path is a way OR route to locate a file or folder within a file system.\n",
    "\n",
    "An absolute file path specifies the full path of a file or folder starting from the root directory of the file system. In other words, it provides the complete address of a file or folder from the top-most directory of the file system. An example of an absolute file path is:\n",
    "\n",
    "\n",
    "C:\\Users\\JohnDoe\\Documents\\file.txt\n",
    "In this example, C:\\ is the root directory of the file system, Users is a folder within the root directory, JohnDoe is a sub-folder within the Users folder, Documents is a sub-folder within the JohnDoe folder, and file.txt is the actual file.\n",
    "\n",
    "A relative file path, on the other hand, specifies the location of a file or folder relative to the current working directory. In other words, it provides the address of a file or folder relative to the directory from where the file or folder is being accessed. An example of a relative file path is:\n",
    "\n",
    "\n",
    "Documents\\file.txt\n",
    "In this example, Documents is a folder located in the same directory as the current working directory, and file.txt is the file located within the Documents folder.\n",
    "\n",
    "It's important to note that relative file paths are often used when accessing files and folders within a program or script, while absolute file paths are more commonly used when referencing files and folders across different systems or locations.\n",
    "\n",
    "\n",
    "\n"
   ]
  },
  {
   "cell_type": "markdown",
   "id": "af4d6564-58d4-40bf-8283-46b3382c0d11",
   "metadata": {},
   "source": [
    "                                        NOTE"
   ]
  },
  {
   "cell_type": "markdown",
   "id": "b7fc0765-29c0-48f9-ae17-b60e49d63020",
   "metadata": {},
   "source": [
    "with the help of absolute file path and relative file path jo ki kisi bhi folder or file ka complete addresss bta rhe hote hai we can get any file to our destination of choice mtlb maanlo jis working directory(workspace) me hm kaam kr rhe hai us directory me ek ko read ya kuchh aur operation  krna chahte hai but yah file is directory me available nhi but file system me acvialaible hai to eror aajayega but us file ko bina upload kiye in our wroking directory just by typing absolute file path we cxan get bthat file"
   ]
  },
  {
   "cell_type": "markdown",
   "id": "0521e4ad-e980-4349-8b1e-bd21f2aedd17",
   "metadata": {},
   "source": [
    "SOME METHODS"
   ]
  },
  {
   "cell_type": "markdown",
   "id": "483746cf-7913-41c5-92b9-e24848cb00e8",
   "metadata": {},
   "source": [
    "READLINES() METHOD"
   ]
  },
  {
   "cell_type": "markdown",
   "id": "61474037-b305-44e8-8ada-8030c840cce9",
   "metadata": {},
   "source": [
    "The readlines() method is a built-in method in Python that allows reading all the lines from a file and returning them as a list of strings."
   ]
  },
  {
   "cell_type": "code",
   "execution_count": 13,
   "id": "c5f83223-d36e-4220-840e-96afda991c9c",
   "metadata": {},
   "outputs": [],
   "source": [
    "with open(\"my_file.txt\",mode='r') as file:\n",
    "    a = file.readlines()"
   ]
  },
  {
   "cell_type": "code",
   "execution_count": 14,
   "id": "fdac9a06-8e6c-4382-9c56-859111da6994",
   "metadata": {},
   "outputs": [
    {
     "data": {
      "text/plain": [
       "['creator\\n', 'sanit \\n', 'AI \\n', 'ML\\n', 'DL\\n', 'CP']"
      ]
     },
     "execution_count": 14,
     "metadata": {},
     "output_type": "execute_result"
    }
   ],
   "source": [
    "a"
   ]
  },
  {
   "cell_type": "markdown",
   "id": "5f662150-5ed7-4b56-9a55-6b7a5b75496e",
   "metadata": {},
   "source": [
    "STRING REPLACE()"
   ]
  },
  {
   "cell_type": "markdown",
   "id": "bcbe77a7-11ae-4907-ba92-044de45c31dc",
   "metadata": {},
   "source": [
    "The replace() method is a built-in function in Python that is used to replace all occurrences of a substring within a string with a new substring. This method does not modify the original string but returns a new string that has the replacements made.\n",
    "\n",
    "The syntax of the replace() method is as follows:"
   ]
  },
  {
   "cell_type": "code",
   "execution_count": 15,
   "id": "a5f7a7e4-3cef-44a3-b7d0-d22298434cfe",
   "metadata": {},
   "outputs": [
    {
     "name": "stdout",
     "output_type": "stream",
     "text": [
      "Hello Python\n"
     ]
    }
   ],
   "source": [
    "string = \"Hello World\"\n",
    "new_string = string.replace(\"World\", \"Python\")\n",
    "print(new_string)\n"
   ]
  },
  {
   "cell_type": "markdown",
   "id": "96c36038-2570-4b35-ab35-7ba124a98ba3",
   "metadata": {},
   "source": [
    "STRIP() METHOD"
   ]
  },
  {
   "cell_type": "markdown",
   "id": "24511782-e496-4e2c-a101-8f1e0b69c33c",
   "metadata": {},
   "source": [
    "The strip() method is a built-in function in Python that is used to remove leading and trailing whitespace characters from a string. The whitespace characters include spaces, tabs, and newline characters. The strip() method does not modify the original string but returns a new string with the whitespace characters removed."
   ]
  },
  {
   "cell_type": "code",
   "execution_count": 22,
   "id": "9b2a0f7d-d16b-43a3-83a7-acf8663ce646",
   "metadata": {},
   "outputs": [
    {
     "name": "stdout",
     "output_type": "stream",
     "text": [
      "Hello World\n"
     ]
    }
   ],
   "source": [
    "string = \"  Hello World   \"\n",
    "new_string = string.strip()\n",
    "print(new_string)\n"
   ]
  },
  {
   "cell_type": "markdown",
   "id": "a91cf014-99bc-4fd4-8e0b-cc27dc07c3e8",
   "metadata": {},
   "source": [
    "whitespace chatacter :\n",
    "    \n",
    "A whitespace character is a character that represents a space, a tab, or a line break in a text string. In programming languages, whitespace characters are often used to separate words and to format code and text for readability.\n",
    "\n",
    "In Python, whitespace characters include:\n",
    "\n",
    "Space character: represented by the ' ' character.\n",
    "Tab character: represented by the '\\t' escape sequence.\n",
    "Newline character: represented by the '\\n' escape sequence.\n",
    "Carriage return character: represented by the '\\r' escape sequence."
   ]
  }
 ],
 "metadata": {
  "kernelspec": {
   "display_name": "Python 3 (ipykernel)",
   "language": "python",
   "name": "python3"
  },
  "language_info": {
   "codemirror_mode": {
    "name": "ipython",
    "version": 3
   },
   "file_extension": ".py",
   "mimetype": "text/x-python",
   "name": "python",
   "nbconvert_exporter": "python",
   "pygments_lexer": "ipython3",
   "version": "3.10.8"
  }
 },
 "nbformat": 4,
 "nbformat_minor": 5
}
