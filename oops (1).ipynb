{
 "cells": [
  {
   "cell_type": "code",
   "execution_count": 18,
   "id": "3a9a8185-f164-4457-981c-353b36efc4b1",
   "metadata": {},
   "outputs": [
    {
     "data": {
      "text/plain": [
       "'sanit'"
      ]
     },
     "execution_count": 18,
     "metadata": {},
     "output_type": "execute_result"
    }
   ],
   "source": [
    "\n",
    "#                               HOW TO CREATE A CLASS\n",
    "\n",
    "\n",
    "class Class_Name:\n",
    "    pass\n",
    "\n",
    "# this is a empty class if we do not want an empty class then we can write some attributes and methods,\n",
    "# instead of pass keyword\n",
    "\n",
    "\n",
    "\n",
    "\n",
    "#                      HOW TO CONSTRUCT/CREATE AN OBJECT FROM A CLASS\n",
    "\n",
    "# syntax:\n",
    "# object_name = class_name()\n",
    "obj1 = Class_Name()\n",
    "\n",
    "\n",
    "\n",
    "#                        HOW TO ADD ATTRIBUTES TO AN OBJECT\n",
    "\n",
    "\n",
    "# syntax:::::::::\n",
    "# object_name.attribute_name = \"attribute's value\" see below\n",
    "\n",
    "obj1.name='sanit'\n",
    "obj1.number=1234567890\n",
    "obj1.name\n",
    "\n",
    "# but agar hme millions of attributes add krne ho ya agar hm chahte hai ki same attributes ek se adhik ,\n",
    "# objects ko automatically assign ho jaaye tab hm use krte hai constructor which initialize the attributes"
   ]
  },
  {
   "cell_type": "code",
   "execution_count": 19,
   "id": "e4b152cf-953f-4cf1-bacd-8b9449ecca84",
   "metadata": {},
   "outputs": [],
   "source": [
    "\n",
    "#                                         CONSTRUCTOR\n",
    "\n",
    "\n",
    "# In Python, a constructor is a special method that is called when an object is created.\n",
    "# It is used to initialize the object's attributes and set their initial values.\n",
    "\n",
    "# In Python, the constructor method is named __init__() and is defined inside a class.\n",
    "# When a new object is created from the class, the __init__() method is called \n",
    "\n",
    "\n",
    "# MTLB jab jab ek object create kiya jaayega tab tab yeh fucntion call hoga automatically aur iske ander,\n",
    "# jitne bhi attributes honge get triggered."
   ]
  },
  {
   "cell_type": "code",
   "execution_count": 20,
   "id": "3cbfc19b-ce2e-4cbf-b678-b96b04f6fccf",
   "metadata": {},
   "outputs": [],
   "source": [
    "# self parameter is a first object/instance of any class being created to set initial attributes for new ,\n",
    "# objects\n",
    "class Cls1:\n",
    "    def __init__(self,user_id):\n",
    "        self.id = user_id\n",
    "        print('hello world')\n",
    "        self.name = 'sanit'\n",
    "        print(self.name)"
   ]
  },
  {
   "cell_type": "code",
   "execution_count": 21,
   "id": "71ae003f-ca38-480b-8399-ca3f1d063fce",
   "metadata": {},
   "outputs": [
    {
     "name": "stdout",
     "output_type": "stream",
     "text": [
      "hello world\n",
      "sanit\n"
     ]
    }
   ],
   "source": [
    "# SO JAISE HI HMNE YHA PT FUNCTION CREATE KIYA WAISE HI __INIT__() FUNCTION AUTOMATICALLY CALL HO GYA,\n",
    "# TO INITIALIZE THE ATTRIBJUTES MTLB ALL ATTRIBUTES GET TRIGGERED AS WE CREATED A OBJECT\n",
    " \n",
    "obj1 = Cls1(123456789)"
   ]
  },
  {
   "cell_type": "code",
   "execution_count": 22,
   "id": "4bef6724-12ba-450b-90fa-66da4c4bdb2d",
   "metadata": {},
   "outputs": [],
   "source": [
    "\n",
    "\n",
    "#                                   KAHAANI SELF KI\n",
    "\n",
    "# 1. JABHI HM KOI CLASS BNA RHE HOTE HAI TAB SELF IS THE FIRST PARAMETER WHICH IS BEING PASSED TO METHODS.\n",
    "# 2. JABHI HM KOI OBJECT CREATE KRTE HAI TAB YAH AS A FIRST ARGUMENT PASS HO JAATA HAI TO INIT METHODS AND,\n",
    "# SELF REPLACE ITSELF BY THAT OBJECT "
   ]
  },
  {
   "cell_type": "code",
   "execution_count": 23,
   "id": "e67fd8ca-27f7-47ca-a1bf-b4bd172d5440",
   "metadata": {},
   "outputs": [],
   "source": [
    "# let create a code for instagram user jiske paas username,userid,following and followers honge ek user,\n",
    "# dusre user ko follow krega aur phhir dono users ke folllowers and following btana/print krna hai\n",
    "\n",
    "class User:\n",
    "    def __init__(self,user_id,user_name):\n",
    "        self.id = user_id\n",
    "        self.name = user_name\n",
    "        self.followers = 0\n",
    "        self.following = 0\n",
    "        \n",
    "    def follow(self,user):\n",
    "        user.followers+=1\n",
    "        self.following+=1"
   ]
  },
  {
   "cell_type": "code",
   "execution_count": 14,
   "id": "7803e1ca-c897-4e6f-831c-82f6d857db9f",
   "metadata": {},
   "outputs": [],
   "source": [
    "user_1 = User('001','creator')\n",
    "user_2 = User('002','sanit')\n",
    "\n",
    "# so yha pr hmne do user/object bna liye hai "
   ]
  },
  {
   "cell_type": "code",
   "execution_count": 15,
   "id": "ac4e6deb-0ce3-4147-8279-1f6c6f6c8a68",
   "metadata": {},
   "outputs": [],
   "source": [
    "#                                      NOTE\n",
    "\n",
    "# EK OBJECT KE PAAS DO CHIZE HOTI HAI -------->>>>>>>\n",
    "\n",
    "#  (1). OBJECT KE PASS KYA-2 HAI ------>>>>> need to call/add/initialize ATTRIBUTES to this object\n",
    "\n",
    "#  (2). OBJECT KE SATH HM KYA KR SKTE HAI YA KHUD OBJECT KYA KR SKTA HAI -------->>>>>> need to call a ,\n",
    "#       function for this object see below"
   ]
  },
  {
   "cell_type": "code",
   "execution_count": 16,
   "id": "16b6a210-f824-4cff-9c38-1af21fab264b",
   "metadata": {},
   "outputs": [
    {
     "name": "stdout",
     "output_type": "stream",
     "text": [
      "user_1 follower is 0\n",
      "user_1 following is 1\n",
      "user_2 follower is 1\n",
      "user_2 following is 0\n"
     ]
    }
   ],
   "source": [
    "user_1.follow(user_2)\n",
    "# let explore it jaisa ki hmne ek function banaya hai jo ki ek args lega aur wah args ek object hone waala,\n",
    "\n",
    "# hai now yha pr hmne follow function ko call kiya hai for user_1 object ab yah function iske under likhe,\n",
    "\n",
    "# line of code ke according jo bhi kuchh user_1 ke liye task perform krna hoga wah krdega but lge haath,\n",
    "\n",
    "# jaise hi hmne user_2 ko as user args passs kiya to user_2.followers+=1 ho jaayega matlb first line of,\n",
    "\n",
    "# code ki wajah se user_2 ka followers change ho jaayenge aur user_1 ke following see below \n",
    "\n",
    "print(f'user_1 follower is {user_1.followers}')\n",
    "print(f'user_1 following is {user_1.following}')\n",
    "print(f'user_2 follower is {user_2.followers}')\n",
    "print(f'user_2 following is {user_2.following}')"
   ]
  },
  {
   "cell_type": "code",
   "execution_count": 26,
   "id": "fdc4b6ab-d639-4a2b-889b-313b10049e64",
   "metadata": {},
   "outputs": [],
   "source": [
    "\n",
    "#                      <<<<--------------NOTE-------------->>>>\n",
    "\n",
    "# DHYAAN RAKHO JABHI HME KUCHH KAAM KRNA HAI YA PHIR KRWANA HAI YA PHIR KAHI PR KUCHH KAAM HO RHA HAI YA,\n",
    "\n",
    "# PHIR KISI OBJECT ME/PR KUCHHH OPERATION/KAAM KRNA HAI TAB HME EK FUNCTION KI JARURAT HOTI HAI BKOZ\n",
    "\n",
    "# FUNCTION KA KAAM HI HOTA HAI TO  PERFORM ANY TASK / OPERATION JAISE HMNE UPPER KIYA FOLLOWERS AUR ,\n",
    "\n",
    "# FOLLOWING KI COUNTING KE LIYE AUR EK DUSRE KO FOLLOW KRNE K KE LIYE THAT'S IT\n",
    "\n",
    "# ab ek function kya-2 perform skta hai aur kis-2 object ke liye perform kr skta hai yah depend krta hai,\n",
    "# hmne kya-2 ya kis type ke lines of codes is function ke ander likhe hai  so jis bhi function ko jis bhi,\n",
    "# object ke liye call kiya jaa rha hai sbse phle us function ke pass jana hai aur uske ander likhe hue,'\n",
    "# lines of codes ko barrike se analysis krna hai ki yah particular line of code kya krna chahta hai"
   ]
  },
  {
   "cell_type": "code",
   "execution_count": null,
   "id": "f18ab624-13c5-433a-8152-3668e2d328f0",
   "metadata": {},
   "outputs": [],
   "source": []
  }
 ],
 "metadata": {
  "kernelspec": {
   "display_name": "Python 3 (ipykernel)",
   "language": "python",
   "name": "python3"
  },
  "language_info": {
   "codemirror_mode": {
    "name": "ipython",
    "version": 3
   },
   "file_extension": ".py",
   "mimetype": "text/x-python",
   "name": "python",
   "nbconvert_exporter": "python",
   "pygments_lexer": "ipython3",
   "version": "3.10.8"
  }
 },
 "nbformat": 4,
 "nbformat_minor": 5
}
